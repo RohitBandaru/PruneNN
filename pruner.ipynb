{
 "cells": [
  {
   "cell_type": "code",
   "execution_count": 1,
   "metadata": {
    "colab": {},
    "colab_type": "code",
    "id": "H9M5H_M01BWt"
   },
   "outputs": [],
   "source": [
    "!pip install -q torch torchvision numpy\n",
    "\n",
    "import torch\n",
    "import torch.nn as nn\n",
    "from torch.nn.parameter import Parameter\n",
    "import torch.nn.functional as F\n",
    "import torch.optim as optim\n",
    "from torchvision import datasets, transforms\n",
    "\n",
    "import numpy as np\n",
    "from collections import OrderedDict\n",
    "import itertools\n",
    "import sys\n",
    "import time\n",
    "\n",
    "sys.path.append(\"..\")\n",
    "\n",
    "from prunenn.data import *\n",
    "from prunenn.models import *\n",
    "from prunenn.trainer import *\n",
    "from prunenn.pruner import *\n",
    "from prunenn.run_pruner import *"
   ]
  },
  {
   "cell_type": "code",
   "execution_count": 2,
   "metadata": {},
   "outputs": [],
   "source": [
    "dataset = 'mnist'\n",
    "\n",
    "# Select model and data loaders based on data set\n",
    "if dataset == 'mnist':\n",
    "    model = MNISTNet()\n",
    "    loaders = get_mnist_loaders()\n",
    "elif dataset == 'cifar':\n",
    "    model = CIFARNet()\n",
    "    loaders = get_cifar_loaders() \n",
    "train_loader, test_loader = loaders\n",
    "\n",
    "optimizer = optim.Adam(model.parameters(), lr=0.001)"
   ]
  },
  {
   "cell_type": "code",
   "execution_count": 3,
   "metadata": {
    "colab": {
     "base_uri": "https://localhost:8080/",
     "height": 1020
    },
    "colab_type": "code",
    "id": "KkGKTEPA1d5b",
    "outputId": "b91bb8c8-b758-41d7-ff32-b774676c93f9"
   },
   "outputs": [
    {
     "name": "stdout",
     "output_type": "stream",
     "text": [
      "Train Epoch: 0 [0/60000 (0%)]\tLoss: 2.532043\n",
      "Train Epoch: 0 [6400/60000 (11%)]\tLoss: 0.391521\n",
      "Train Epoch: 0 [12800/60000 (21%)]\tLoss: 0.169306\n",
      "Train Epoch: 0 [19200/60000 (32%)]\tLoss: 0.192877\n",
      "Train Epoch: 0 [25600/60000 (43%)]\tLoss: 0.081172\n",
      "Train Epoch: 0 [32000/60000 (53%)]\tLoss: 0.108842\n",
      "Train Epoch: 0 [38400/60000 (64%)]\tLoss: 0.033457\n",
      "Train Epoch: 0 [44800/60000 (75%)]\tLoss: 0.021315\n",
      "Train Epoch: 0 [51200/60000 (85%)]\tLoss: 0.084689\n",
      "Train Epoch: 0 [57600/60000 (96%)]\tLoss: 0.045041\n",
      "\n",
      "Test set: Average loss: 0.0496, Accuracy: 9859/10000 (99%)\n",
      "\n"
     ]
    }
   ],
   "source": [
    "'''\n",
    "Pretraining full model\n",
    "'''\n",
    "epoch_range = 1\n",
    "            \n",
    "for epoch in range(epoch_range):\n",
    "    train(model, train_loader, optimizer, epoch)\n",
    "    test(model, test_loader)"
   ]
  },
  {
   "cell_type": "code",
   "execution_count": 4,
   "metadata": {},
   "outputs": [
    {
     "name": "stdout",
     "output_type": "stream",
     "text": [
      "\n",
      "Test set: Average loss: 0.0496, Accuracy: 9859/10000 (99%)\n",
      "\n",
      "testing time 3.1304309368133545\n"
     ]
    },
    {
     "data": {
      "text/plain": [
       "25670"
      ]
     },
     "execution_count": 4,
     "metadata": {},
     "output_type": "execute_result"
    }
   ],
   "source": [
    "pruner_model = Pruner(model, function=\"corrs\")\n",
    "pruner_model.to_train = False\n",
    "t0 = time.time()\n",
    "acc = test(pruner_model, test_loader)\n",
    "t1 = time.time()\n",
    "print(\"testing time\", (t1-t0))\n",
    "sum(p.numel() for p in model.parameters() if p.requires_grad)"
   ]
  },
  {
   "cell_type": "code",
   "execution_count": null,
   "metadata": {
    "colab": {
     "base_uri": "https://localhost:8080/",
     "height": 2618
    },
    "colab_type": "code",
    "id": "f6HuNLkN_LZf",
    "outputId": "fea70aa3-a4a9-477e-8322-9c047791802e"
   },
   "outputs": [
    {
     "name": "stdout",
     "output_type": "stream",
     "text": [
      "\n",
      "Test set: Average loss: 0.0496, Accuracy: 9859/10000 (99%)\n",
      "\n",
      "--- threshold  0.95  ---\n",
      "Train Epoch: 0 [0/60000 (0%)]\tLoss: 0.048976\n"
     ]
    },
    {
     "name": "stderr",
     "output_type": "stream",
     "text": [
      "/Applications/anaconda3/lib/python3.7/site-packages/numpy/lib/function_base.py:2534: RuntimeWarning: invalid value encountered in true_divide\n",
      "  c /= stddev[:, None]\n",
      "/Applications/anaconda3/lib/python3.7/site-packages/numpy/lib/function_base.py:2535: RuntimeWarning: invalid value encountered in true_divide\n",
      "  c /= stddev[None, :]\n",
      "/Users/rohitbandaru/Desktop/PruneNN/prunenn/pruner.py:132: RuntimeWarning: invalid value encountered in less_equal\n",
      "  nodes_to_prune = np.where((self.thres <= corrs[:, :]))\n"
     ]
    },
    {
     "name": "stdout",
     "output_type": "stream",
     "text": [
      "Train Epoch: 0 [6400/60000 (11%)]\tLoss: 0.020210\n",
      "Train Epoch: 0 [12800/60000 (21%)]\tLoss: 0.011674\n",
      "Train Epoch: 0 [19200/60000 (32%)]\tLoss: 0.080999\n",
      "Train Epoch: 0 [25600/60000 (43%)]\tLoss: 0.010653\n",
      "Train Epoch: 0 [32000/60000 (53%)]\tLoss: 0.065219\n",
      "Train Epoch: 0 [38400/60000 (64%)]\tLoss: 0.051694\n",
      "Train Epoch: 0 [44800/60000 (75%)]\tLoss: 0.017175\n",
      "Train Epoch: 0 [51200/60000 (85%)]\tLoss: 0.042880\n",
      "Train Epoch: 0 [57600/60000 (96%)]\tLoss: 0.016537\n",
      "\n",
      "Test set: Average loss: 0.0372, Accuracy: 9884/10000 (99%)\n",
      "\n",
      "Removing 0 nodes from conv2d layer\n",
      "Removing 0 nodes from batchnorm layer\n",
      "Removing 2 nodes from conv2d layer\n",
      "Removing 2 nodes from batchnorm layer\n",
      "Removing 0 nodes from conv2d layer\n",
      "Removing 0 nodes from batchnorm layer\n",
      "\n",
      "Test set: Average loss: 0.0644, Accuracy: 9810/10000 (98%)\n",
      "\n",
      "--- threshold  0.9183060200093368  ---\n",
      "Train Epoch: 0 [0/60000 (0%)]\tLoss: 0.009580\n",
      "Train Epoch: 0 [6400/60000 (11%)]\tLoss: 0.089386\n",
      "Train Epoch: 0 [12800/60000 (21%)]\tLoss: 0.115203\n",
      "Train Epoch: 0 [19200/60000 (32%)]\tLoss: 0.039182\n",
      "Train Epoch: 0 [25600/60000 (43%)]\tLoss: 0.019973\n",
      "Train Epoch: 0 [32000/60000 (53%)]\tLoss: 0.005608\n",
      "Train Epoch: 0 [38400/60000 (64%)]\tLoss: 0.038702\n",
      "Train Epoch: 0 [44800/60000 (75%)]\tLoss: 0.014100\n",
      "Train Epoch: 0 [51200/60000 (85%)]\tLoss: 0.004557\n",
      "Train Epoch: 0 [57600/60000 (96%)]\tLoss: 0.006131\n",
      "\n",
      "Test set: Average loss: 0.0324, Accuracy: 9896/10000 (99%)\n",
      "\n",
      "Removing 0 nodes from conv2d layer\n",
      "Removing 0 nodes from batchnorm layer\n",
      "Removing 2 nodes from conv2d layer\n",
      "Removing 2 nodes from batchnorm layer\n",
      "Removing 0 nodes from conv2d layer\n",
      "Removing 0 nodes from batchnorm layer\n"
     ]
    }
   ],
   "source": [
    "thresholds = np.flip(np.logspace(np.log10(0.7), np.log10(0.95), num=10), axis=0)\n",
    "sacrifice = 0.01\n",
    "pruner_model = prune_loop(pruner_model, thresholds, sacrifice, loaders, optimizer)"
   ]
  },
  {
   "cell_type": "code",
   "execution_count": null,
   "metadata": {},
   "outputs": [],
   "source": [
    "t0 = time.time()\n",
    "acc = test(model, test_loader)\n",
    "t1 = time.time()\n",
    "print(\"testing time\", (t1-t0))\n",
    "sum(p.numel() for p in pruner_model.parameters() if p.requires_grad)"
   ]
  }
 ],
 "metadata": {
  "accelerator": "GPU",
  "colab": {
   "collapsed_sections": [],
   "name": "pruner.ipynb",
   "provenance": [],
   "version": "0.3.2"
  },
  "kernelspec": {
   "display_name": "Python 2",
   "language": "python",
   "name": "python2"
  },
  "language_info": {
   "codemirror_mode": {
    "name": "ipython",
    "version": 3
   },
   "file_extension": ".py",
   "mimetype": "text/x-python",
   "name": "python",
   "nbconvert_exporter": "python",
   "pygments_lexer": "ipython3",
   "version": "3.7.4"
  }
 },
 "nbformat": 4,
 "nbformat_minor": 1
}
